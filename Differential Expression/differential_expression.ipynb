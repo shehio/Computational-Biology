{
 "cells": [
  {
   "cell_type": "code",
   "execution_count": 1,
   "metadata": {},
   "outputs": [],
   "source": [
    "import numpy as np\n",
    "import matplotlib.pyplot as plt\n",
    "from scipy.stats import ttest_ind\n",
    "from heapq import nsmallest, nlargest"
   ]
  },
  {
   "cell_type": "code",
   "execution_count": 2,
   "metadata": {},
   "outputs": [],
   "source": [
    "# Load data\n",
    "X = np.loadtxt('Zeisel_expr.txt').T\n",
    "genes = np.loadtxt('Zeisel_genes.txt', delimiter='\\n', dtype=str)\n",
    "labels = np.loadtxt('Zeisel_labels.txt', delimiter='\\n', dtype=str)"
   ]
  },
  {
   "cell_type": "code",
   "execution_count": 3,
   "metadata": {},
   "outputs": [],
   "source": [
    "# Filter and log-transform count matrix\n",
    "keep_genes = np.sum(X, 0) >= 25\n",
    "X = X[:, keep_genes]\n",
    "genes = genes[keep_genes]\n",
    "\n",
    "# Log transform\n",
    "X = np.log(1 + X)"
   ]
  },
  {
   "cell_type": "code",
   "execution_count": null,
   "metadata": {},
   "outputs": [],
   "source": [
    "unique_labels = np.unique(labels)\n",
    "cells = []\n",
    "not_cells = []\n",
    "for label in unique_labels:\n",
    "    cells.append(X[labels == label, :])\n",
    "    not_cells.append(X[labels != label, :])"
   ]
  },
  {
   "cell_type": "code",
   "execution_count": null,
   "metadata": {},
   "outputs": [],
   "source": [
    "# Problem 1.1 Differential Gene Expression\n",
    "# For each cell type (use the cell type labels from the data), identify the 3 most significant genes, using t-tests.\n",
    "\n",
    "for cellType, not_cellType, label in zip(cells, not_cells, unique_labels):\n",
    "    pValues = ttest_ind(cellType, not_cellType).pvalue\n",
    "    tValues = ttest_ind(cellType, not_cellType).statistic\n",
    "    ns = nsmallest(3, enumerate(pValues), key=lambda x: x[1])\n",
    "    nl = nlargest(3, enumerate(tValues), key=lambda x: x[1])\n",
    "    idx = [tuple[0] for tuple in ns]\n",
    "    most_significant_genes = [genes[i] for i in idx]\n",
    "    print(label)\n",
    "    print(most_significant_genes)\n",
    "    idx = [tuple[0] for tuple in nl]\n",
    "    most_significant_genes = [genes[i] for i in idx]\n",
    "    print(most_significant_genes)"
   ]
  },
  {
   "cell_type": "code",
   "execution_count": null,
   "metadata": {},
   "outputs": [],
   "source": []
  }
 ],
 "metadata": {
  "kernelspec": {
   "display_name": "Python 3",
   "language": "python",
   "name": "python3"
  },
  "language_info": {
   "codemirror_mode": {
    "name": "ipython",
    "version": 3
   },
   "file_extension": ".py",
   "mimetype": "text/x-python",
   "name": "python",
   "nbconvert_exporter": "python",
   "pygments_lexer": "ipython3",
   "version": "3.7.3"
  }
 },
 "nbformat": 4,
 "nbformat_minor": 2
}
