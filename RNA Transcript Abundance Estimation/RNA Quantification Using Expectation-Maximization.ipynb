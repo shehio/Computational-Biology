{
 "cells": [
  {
   "cell_type": "code",
   "execution_count": 1,
   "metadata": {},
   "outputs": [
    {
     "name": "stdout",
     "output_type": "stream",
     "text": [
      "Transcripts = ['ATCTCGACGCACTGC', 'GAGTTCGAACTCTTC', 'AGAGTTCCAGTGTCA', 'AAAGCTCACTGCGGA', 'AGCGATATCAGAGTD']\n",
      "First 5 reads = ['AGAGT', 'CACTG', 'TCGAA', 'AGCTC', 'ATCTC']\n",
      "(Real) rho = [0.2763549  0.2158966  0.03822885 0.06552442 0.40399523]\n"
     ]
    }
   ],
   "source": [
    "import numpy as np\n",
    "import matplotlib.pyplot as plt\n",
    "\n",
    "transcripts = []\n",
    "with open('transcripts.txt', 'r') as f :\n",
    "    for line in f :\n",
    "        transcripts.append(line.strip())\n",
    "        \n",
    "reads = []\n",
    "with open('transcript_reads.txt', 'r') as f :\n",
    "    for line in f :\n",
    "        reads.append(line.strip())\n",
    "\n",
    "transcriptsCount = len(transcripts)\n",
    "readsCount = len(reads)\n",
    "\n",
    "rho = np.array([0.2763549, 0.2158966, 0.03822885, 0.06552442, 0.40399523])\n",
    "rho /= np.sum(rho)\n",
    "\n",
    "print('Transcripts = ' + str(transcripts))\n",
    "print('First 5 reads = ' + str(reads[0:5]))\n",
    "print('(Real) rho = ' + str(rho))"
   ]
  },
  {
   "cell_type": "code",
   "execution_count": 2,
   "metadata": {},
   "outputs": [
    {
     "name": "stdout",
     "output_type": "stream",
     "text": [
      "(Real) rho = [0.2763549  0.2158966  0.03822885 0.06552442 0.40399523]\n",
      "(Est.) rho = [0.27817568 0.19989501 0.03950012 0.07982432 0.40260487]\n",
      "Final SSE = 0.000467\n"
     ]
    }
   ],
   "source": [
    "N_iter = 100 # Number of EM iterations\n",
    "\n",
    "# A: Compatibility matrix. A[i, j] = 1 iff read i aligns to transcript j\n",
    "A = np.zeros((readsCount, transcriptsCount))\n",
    "\n",
    "# Naive alignment algorithm with no read errors\n",
    "for i in range(readsCount) :\n",
    "    for j in range(transcriptsCount) :\n",
    "        if reads[i] in transcripts[j] :\n",
    "            A[i, j] = 1.\n",
    "\n",
    "\n",
    "# Initialization of rho as uniform\n",
    "rho_est = (1. / float(transcriptsCount)) * np.ones(transcriptsCount)\n",
    "\n",
    "# ==============================================================================\n",
    "\n",
    "# For each EM iteration, store the Sum-of-squares error w.r.t the true rho in this vector\n",
    "sse_per_iteration = np.ones(N_iter) * np.inf\n",
    "\n",
    "# Problem 1.1\n",
    "# The EM algorithm to estimate the transcript abundance of rho (which we pretend is unknown to us)\n",
    "# Save your final, updated estimates in rho_est\n",
    "rowsSum = A.sum(axis = 1)\n",
    "f = A / rowsSum[:, None]\n",
    "\n",
    "for i in range(N_iter):\n",
    "    # Maximization step\n",
    "    rowsSum = f.sum(axis = 1)\n",
    "    f /= rowsSum[:, None]\n",
    "    rho_est = f.sum(axis=0)\n",
    "    rho_est /= np.sum(rho_est)\n",
    "    \n",
    "    # Expectation step\n",
    "    f = A * rho_est\n",
    "    rowsSum = f.sum(axis = 1)\n",
    "    f /= rowsSum[:, None]\n",
    "    sse_per_iteration[i] = sum((rho - rho_est) ** 2) \n",
    "\n",
    "\n",
    "# ==============================================================================\n",
    "\n",
    "print('(Real) rho = ' + str(rho))\n",
    "print('(Est.) rho = ' + str(rho_est))\n",
    "\n",
    "print('Final SSE = ' + str(round(sse_per_iteration[-1], 6)))\n"
   ]
  },
  {
   "cell_type": "code",
   "execution_count": 3,
   "metadata": {},
   "outputs": [
    {
     "data": {
      "image/png": "[encoded data removed]",
      "text/plain": [
       "<Figure size 432x288 with 1 Axes>"
      ]
     },
     "metadata": {
      "needs_background": "light"
     },
     "output_type": "display_data"
    }
   ],
   "source": [
    "# Run this cell to get a plot of the Sum-of-square error between the true rho and your EM estimate\n",
    "\n",
    "f = plt.figure(figsize=(6, 4))\n",
    "\n",
    "plt.plot(np.arange(N_iter), sse_per_iteration, linewidth=2, c='darkgreen')\n",
    "\n",
    "plt.xlabel('EM iterations', fontsize=14)\n",
    "plt.ylabel('SSE (True vs. Est. rho)', fontsize=14)\n",
    "plt.xticks(fontsize=14)\n",
    "plt.yticks(fontsize=14)\n",
    "\n",
    "plt.xlim(0, N_iter - 1)\n",
    "\n",
    "plt.tight_layout()\n",
    "plt.show()\n"
   ]
  },
  {
   "cell_type": "code",
   "execution_count": null,
   "metadata": {},
   "outputs": [],
   "source": []
  }
 ],
 "metadata": {
  "kernelspec": {
   "display_name": "Python 3",
   "language": "python",
   "name": "python3"
  },
  "language_info": {
   "codemirror_mode": {
    "name": "ipython",
    "version": 3
   },
   "file_extension": ".py",
   "mimetype": "text/x-python",
   "name": "python",
   "nbconvert_exporter": "python",
   "pygments_lexer": "ipython3",
   "version": "3.7.3"
  }
 },
 "nbformat": 4,
 "nbformat_minor": 2
}
