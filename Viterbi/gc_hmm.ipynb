{
 "cells": [
  {
   "cell_type": "code",
   "execution_count": 1,
   "metadata": {},
   "outputs": [],
   "source": [
    "import numpy as np\n",
    "import matplotlib.pyplot as plt\n",
    "from sklearn.preprocessing import normalize\n"
   ]
  },
  {
   "cell_type": "code",
   "execution_count": 2,
   "metadata": {},
   "outputs": [
    {
     "name": "stdout",
     "output_type": "stream",
     "text": [
      "genome length = 1959987\n"
     ]
    }
   ],
   "source": [
    "#Read genome sequence file\n",
    "\n",
    "genome_sequence = ''\n",
    "with open('NC_011297.fna', 'r') as f :\n",
    "    f.readline()\n",
    "    \n",
    "    for line in f :\n",
    "        genome_sequence += line.strip()\n",
    "\n",
    "print('genome length = ' + str(len(genome_sequence)))"
   ]
  },
  {
   "cell_type": "code",
   "execution_count": 3,
   "metadata": {},
   "outputs": [],
   "source": [
    "# Problem 2.1 - 2.2\n",
    "\n",
    "# Takes as input the emission sequence (genome) and probability parameters\n",
    "# Outputs the most likely state sequence using Viterbi decoding\n",
    "# Emissions are observations.\n",
    "def viterbi_decode(emissions, initial_probilites, transition_probilites, emission_probilities):\n",
    "    T = len(emissions)\n",
    "    backtrack = np.zeros((2, len(emissions)), dtype=\"int\")\n",
    "    states_labeled = np.zeros(len(emissions), dtype=\"int\")\n",
    "    max_states_logprob = 0\n",
    "    max_states = [0] * T\n",
    "    \n",
    "    \n",
    "    \n",
    "    # using log probabilities is computationally more efficient.\n",
    "    initial_probilities_log = np.log(initial_probilites)\n",
    "    transition_probilities_log = np.log(transition_probilites)\n",
    "    emission_probilities_log = np.log(emission_probilities)\n",
    "    \n",
    "    # Bad code design, remove from here. Make input emissions: 1, 2, 3, 4.\n",
    "    state_given_emission_table = {'A': np.log(emission_probilities[:, 0]), \\\n",
    "                                  'C': np.log(emission_probilities[:, 1]), \\\n",
    "                                  'G': np.log(emission_probilities[:, 2]), \\\n",
    "                                  'T': np.log(emission_probilities[:, 3]) }\n",
    "    \n",
    "    length_emissions = len(emissions)\n",
    "    length_hidden_vlaues = emission_probilities.shape[0]\n",
    "    \n",
    "    # Implement the Viterbi decoding algorithm\n",
    "    # Store the decoded state sequence in 'max_states'\n",
    "    # Store the state sequence log likelihood in 'max_states_logprob'   \n",
    "    probility_matrix_log = np.zeros((length_hidden_vlaues,length_emissions))\n",
    "    probility_matrix_log[:, 0] = initial_probilities_log + state_given_emission_table[emissions[0]]\n",
    "    \n",
    "    for i in range(1, length_emissions):\n",
    "        candidates0 = probility_matrix_log[:, i - 1] + transition_probilities_log[:, 0]\n",
    "        current_transition_probability0 = max(candidates0)\n",
    "        amax0 = np.argmax(candidates0)\n",
    "        \n",
    "        candidates1 = probility_matrix_log[:, i - 1] + transition_probilities_log[:, 1]\n",
    "        current_transition_probability1 = max(candidates1)\n",
    "        amax1 = np.argmax(candidates1)\n",
    "        \n",
    "        current_transition_probability = [current_transition_probability0, current_transition_probability1]\n",
    "        probility_matrix_log[:, i] = current_transition_probability + state_given_emission_table[emissions[i]]\n",
    "            \n",
    "        backtrack[:, i] = [amax0, amax1]\n",
    "        i = i + 1\n",
    "    \n",
    "    \n",
    "    states_labeled[length_emissions - 1] = np.argmax(probility_matrix_log[:, length_emissions - 1])\n",
    "    for i in range(1, length_emissions):\n",
    "        backwardIdx = length_emissions - i  - 1\n",
    "        states_labeled[backwardIdx] = backtrack[states_labeled[backwardIdx + 1], backwardIdx]\n",
    "    \n",
    "    max_end_logprob = np.max(probility_matrix_log[:, length_emissions - 1])\n",
    "    \n",
    "    return max_end_logprob, states_labeled\n",
    "\n",
    "# Takes as input the emission sequence (genome) and probability parameters\n",
    "# Outputs new (re-estimated) probability parameters\n",
    "# Implement Viterbi training to re-estimate parameters\n",
    "# Store the new parameters in the 'new_' matrices\n",
    "# Store the Viterbi-decoded state sequence log likelihood in 'log_probs' at each iteration of training\n",
    "def viterbi_train(emissions, initial_probilites, transition_probilites, emission_probilities, iterations = 10):\n",
    "    given_probabilities = {'A': {0: 0, 1: 0}, 'C': {0: 0, 1: 0} , 'G': {0: 0, 1: 0} , 'T': {0: 0, 1: 0} }\n",
    "    \n",
    "    new_transition_probilites = transition_probilites\n",
    "    new_emission_probilities = emission_probilities\n",
    "    max_log_probilities = []\n",
    "    \n",
    "    for i in range(iterations):\n",
    "        max_end_logprob, states_labeled \\\n",
    "        = viterbi_decode(emissions, initial_probilites, new_transition_probilites, new_emission_probilities)\n",
    "        \n",
    "        max_log_probilities.append(max_end_logprob)\n",
    "        \n",
    "        for i in range(len(emissions)):\n",
    "            given_probabilities[emissions[i]][states_labeled[i]] = \\\n",
    "                given_probabilities[emissions[i]][states_labeled[i]] + 1\n",
    "    \n",
    "        log_probs = np.array([given_probabilities[key] for key in ('A', 'C', 'G', 'T')]).T\n",
    "\n",
    "        log_probs_array = np.zeros((2, 4))\n",
    "        for i in range(len(log_probs)):\n",
    "            log_probs_array[:, i] = np.fromiter(log_probs[i].values(), dtype = float)\n",
    "\n",
    "        new_emission_probilities = normalize(log_probs_array, norm = \"l1\", axis = 1)\n",
    "\n",
    "        transition_count = {'00': 0, '01': 0 , '10': 0 , '11': 0}\n",
    "\n",
    "        for i in range(1, len(states_labeled)):\n",
    "            transition = str(states_labeled[i - 1]) + str(states_labeled[i])\n",
    "            transition_count[transition] = transition_count[transition] + 1\n",
    "\n",
    "        new_transition_probilites = np.array([transition_count[key] for key in ('00', '01', '10', '11')]).T\n",
    "        new_transition_probilites = np.reshape(new_transition_probilites, (2, 2))\n",
    "        new_transition_probilites = normalize(new_transition_probilites, norm = \"l1\", axis = 1)\n",
    "    \n",
    "    return max_log_probilities, initial_probilites, new_emission_probilities, new_transition_probilites\n"
   ]
  },
  {
   "cell_type": "code",
   "execution_count": 4,
   "metadata": {},
   "outputs": [],
   "source": [
    "# Problem 2.1\n",
    "# Here we initialize the probability matrices for the HMM\n",
    "\n",
    "# Initialize P(s_{1})\n",
    "initial_probabilities = np.array([0.996, 0.004])\n",
    "\n",
    "# Initialize P(s_{t} | s_{t-1})\n",
    "transition_probabilities = np.array([\n",
    "    [0.999, 0.001], # s_{t-1} = AT\n",
    "    [0.01, 0.99] # s_{t-1} = GC\n",
    "])\n",
    "\n",
    "# A C G T\n",
    "# Initialize P(o_{t} | s_{t})\n",
    "emission_probabilities = np.array([\n",
    "    [0.291, 0.209, 0.209, 0.291], # s_{t} = AT\n",
    "    [0.169, 0.331, 0.331, 0.169] # s_{t} = GC\n",
    "])"
   ]
  },
  {
   "cell_type": "code",
   "execution_count": 5,
   "metadata": {
    "scrolled": false
   },
   "outputs": [],
   "source": [
    "# Problem 2.1\n",
    "# Run Viterbi decoding to obtain the most likely state sequence for the genome\n",
    "max_end_logprob, states_labeled = \\\n",
    "viterbi_decode(genome_sequence, initial_probabilities, transition_probabilities, emission_probabilities)"
   ]
  },
  {
   "cell_type": "code",
   "execution_count": 15,
   "metadata": {},
   "outputs": [
    {
     "name": "stdout",
     "output_type": "stream",
     "text": [
      "The ratio between GC occurrence to the whole genome is:0.005592384031118574\n",
      "The maximum probability becomes: -2609763.3301350856\n"
     ]
    },
    {
     "data": {
      "image/png": "[encoded data removed]",
      "text/plain": [
       "<Figure size 1600x1200 with 1 Axes>"
      ]
     },
     "metadata": {
      "needs_background": "light"
     },
     "output_type": "display_data"
    }
   ],
   "source": [
    "# Problem 2.1\n",
    "# Plot the genomic nucleotide coordinates of detected GC-rich regions\n",
    "plt.figure(figsize=(16, 12), dpi = 100)\n",
    "indices = np.where(states_labeled == 1)\n",
    "plt.scatter(indices, states_labeled[states_labeled == 1], alpha = 0.01, color = \"red\")\n",
    "plt.axis([0, 2000000, 0, 2])\n",
    "plt.plot()\n",
    "print(\"The ratio between GC occurrence to the whole genome is:\" + str(len(indices[0]) / len(genome_sequence)))\n",
    "print(\"The maximum probability becomes: \" + str(max_end_logprob))"
   ]
  },
  {
   "cell_type": "code",
   "execution_count": 7,
   "metadata": {
    "scrolled": true
   },
   "outputs": [],
   "source": [
    "# Problem 2.2\n",
    "# Update HMM parameters with Viterbi training\n",
    "max_end_log_probabilities, initial_probabilities, new_emission_probabilities, new_transition_probabilities \\\n",
    "= viterbi_train(genome_sequence, initial_probabilities,\\\n",
    "                transition_probabilities, emission_probabilities, iterations = 10)"
   ]
  },
  {
   "cell_type": "code",
   "execution_count": 8,
   "metadata": {},
   "outputs": [
    {
     "data": {
      "text/plain": [
       "[<matplotlib.lines.Line2D at 0x10427f4e0>]"
      ]
     },
     "execution_count": 8,
     "metadata": {},
     "output_type": "execute_result"
    },
    {
     "data": {
      "image/png": "[encoded data removed]",
      "text/plain": [
       "<Figure size 432x288 with 1 Axes>"
      ]
     },
     "metadata": {
      "needs_background": "light"
     },
     "output_type": "display_data"
    }
   ],
   "source": [
    "# Plot genome sequence (emission sequence) likelihood vs. EM iteration\n",
    "plt.plot(range(0, len(max_end_log_probabilities)), max_end_log_probabilities)"
   ]
  },
  {
   "cell_type": "code",
   "execution_count": 9,
   "metadata": {},
   "outputs": [],
   "source": [
    "# Problem 2.2\n",
    "# Re-run viterbi decoding with the new probability parameters.\n",
    "max_end_logprob, new_states_labeled \\\n",
    "= viterbi_decode(genome_sequence, initial_probabilities, new_transition_probabilities, new_emission_probabilities)"
   ]
  },
  {
   "cell_type": "code",
   "execution_count": 16,
   "metadata": {},
   "outputs": [
    {
     "name": "stdout",
     "output_type": "stream",
     "text": [
      "The ratio between GC occurrence to the whole genome is:0.007284231987252977\n",
      "The maximum probability becomes: -2609763.3301350856\n"
     ]
    },
    {
     "data": {
      "image/png": "[encoded data removed]",
      "text/plain": [
       "<Figure size 1600x1200 with 1 Axes>"
      ]
     },
     "metadata": {
      "needs_background": "light"
     },
     "output_type": "display_data"
    }
   ],
   "source": [
    "# Problem 2.2\n",
    "# Plot the genomic coordinates of newly detected GC-rich regions along with the previous detected regions\n",
    "plt.figure(figsize=(16, 12), dpi = 100)\n",
    "new_indices = np.where(new_states_labeled == 1)\n",
    "plt.scatter(new_indices, new_states_labeled[new_states_labeled == 1], alpha = 0.01)\n",
    "plt.scatter(indices, states_labeled[states_labeled == 1], alpha = 0.01, color = \"red\")\n",
    "plt.axis([0, 2000000, 0, 2])\n",
    "plt.plot()\n",
    "print(\"The ratio between GC occurrence to the whole genome is:\" + str(len(new_indices[0]) / len(genome_sequence)))\n",
    "print(\"The maximum probability becomes: \" + str(max_end_logprob))"
   ]
  },
  {
   "cell_type": "markdown",
   "metadata": {},
   "source": [
    "We can definitely see the change here after the training all the blue points are the result of the EM algorithm.\n",
    "We can aslo see how the percentage of the GC areas increased from 0.56% to 0.73% of the whole sequence. "
   ]
  },
  {
   "cell_type": "code",
   "execution_count": null,
   "metadata": {},
   "outputs": [],
   "source": []
  }
 ],
 "metadata": {
  "kernelspec": {
   "display_name": "Python 3",
   "language": "python",
   "name": "python3"
  },
  "language_info": {
   "codemirror_mode": {
    "name": "ipython",
    "version": 3
   },
   "file_extension": ".py",
   "mimetype": "text/x-python",
   "name": "python",
   "nbconvert_exporter": "python",
   "pygments_lexer": "ipython3",
   "version": "3.7.3"
  }
 },
 "nbformat": 4,
 "nbformat_minor": 2
}
