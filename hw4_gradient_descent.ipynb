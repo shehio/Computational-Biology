{
 "cells": [
  {
   "cell_type": "code",
   "execution_count": 1,
   "metadata": {},
   "outputs": [],
   "source": [
    "import numpy as np\n",
    "import scipy.sparse as sp\n",
    "import scipy.io as spio\n",
    "import matplotlib.pyplot as plt\n",
    "import pandas as pd\n",
    "from scipy.stats import pearsonr"
   ]
  },
  {
   "cell_type": "code",
   "execution_count": 2,
   "metadata": {},
   "outputs": [
    {
     "name": "stdout",
     "output_type": "stream",
     "text": [
      "Size of splicing dataset = 10000\n"
     ]
    }
   ],
   "source": [
    "#Read splicing data\n",
    "\n",
    "df = pd.read_csv('Splicing_Data.txt', sep='\\t')\n",
    "df = df.loc[~np.isnan(df.SD1_Usage)].copy().reset_index(drop=True)\n",
    "\n",
    "df = df.iloc[-10000:].copy().reset_index(drop=True)\n",
    "\n",
    "df['Region1'] = df['Seqs'].str.slice(2, 37)\n",
    "\n",
    "print('Size of splicing dataset = ' + str(len(df)))"
   ]
  },
  {
   "cell_type": "code",
   "execution_count": 3,
   "metadata": {},
   "outputs": [
    {
     "name": "stdout",
     "output_type": "stream",
     "text": [
      "Extracting 6-mer features from sequence 0\n",
      "Extracting 6-mer features from sequence 2000\n",
      "Extracting 6-mer features from sequence 4000\n",
      "Extracting 6-mer features from sequence 6000\n",
      "Extracting 6-mer features from sequence 8000\n",
      "Shape of X = (10000, 4096)\n",
      "Shape of y = (10000,)\n"
     ]
    }
   ],
   "source": [
    "# Generate 6mer feature matrix\n",
    "\n",
    "mer6_dict = {}\n",
    "mer6_list = []\n",
    "bases = list('ACGT')\n",
    "\n",
    "#Build dictionary of 6-mer -> index\n",
    "i = 0\n",
    "for b1 in bases :\n",
    "    for b2 in bases :\n",
    "        for b3 in bases :\n",
    "            for b4 in bases :\n",
    "                for b5 in bases :\n",
    "                    for b6 in bases :\n",
    "                        mer6_dict[b1 + b2 + b3 + b4 + b5 + b6] = i\n",
    "                        mer6_list.append(b1 + b2 + b3 + b4 + b5 + b6)\n",
    "                        i += 1\n",
    "\n",
    "#Loop over dataframe, fill matrix X with 6-mer counts\n",
    "X = sp.lil_matrix((len(df), len(mer6_dict)))\n",
    "for index, row in df.iterrows() :\n",
    "    if index % 2000 == 0 :\n",
    "        print('Extracting 6-mer features from sequence ' + str(index))\n",
    "    \n",
    "    region1 = row['Region1']\n",
    "    #Loop over all 6-mers in the current sequence\n",
    "    for j in range(0, len(region1) - 6 + 1) :\n",
    "        if region1[j:j+6] in mer6_dict :\n",
    "            #Increment X at the corrposnding 6-mer index position\n",
    "            X[index, mer6_dict[region1[j:j+6]]] += 1.\n",
    "\n",
    "X = sp.csr_matrix(X)\n",
    "y = np.ravel(df['SD1_Usage'].values)\n",
    "\n",
    "print('Shape of X = ' + str(X.shape))\n",
    "print('Shape of y = ' + str(y.shape))\n"
   ]
  },
  {
   "cell_type": "code",
   "execution_count": 268,
   "metadata": {},
   "outputs": [
    {
     "name": "stdout",
     "output_type": "stream",
     "text": [
      "(10000, 4096)\n",
      "28\n",
      "  (0, 0)\t1.0\n",
      "  (0, 2)\t2.0\n",
      "  (0, 10)\t2.0\n",
      "  (0, 40)\t1.0\n",
      "  (0, 42)\t1.0\n",
      "  (0, 162)\t1.0\n",
      "  (0, 170)\t1.0\n",
      "  (0, 608)\t1.0\n",
      "  (0, 650)\t1.0\n",
      "  (0, 682)\t1.0\n",
      "  (0, 694)\t1.0\n",
      "  (0, 1024)\t1.0\n",
      "  (0, 1536)\t1.0\n",
      "  (0, 2026)\t1.0\n",
      "  (0, 2048)\t1.0\n",
      "  (0, 2200)\t1.0\n",
      "  (0, 2221)\t1.0\n",
      "  (0, 2304)\t1.0\n",
      "  (0, 2432)\t1.0\n",
      "  (0, 2598)\t1.0\n",
      "  (0, 2603)\t1.0\n",
      "  (0, 2624)\t1.0\n",
      "  (0, 2697)\t1.0\n",
      "  (0, 2704)\t1.0\n",
      "  (0, 2724)\t1.0\n",
      "  (0, 2729)\t1.0\n",
      "  (0, 3746)\t1.0\n",
      "  (0, 4008)\t1.0\n"
     ]
    }
   ],
   "source": [
    "# Problem 1.1\n",
    "# Calculate log odds ratios of 6-mers using feature matrix X and splicing ratios y\n",
    "\n",
    "X_col = sp.csc_matrix(X) # More efficient representation of X when working with columns\n",
    "\n",
    "print(X_col.shape)\n",
    "print(X_col[4, :].size)\n",
    "print(X_col[4, :])"
   ]
  },
  {
   "cell_type": "code",
   "execution_count": 188,
   "metadata": {},
   "outputs": [],
   "source": [
    "def safe_kl_log(num, denom):\n",
    "    log_vec = np.zeros(num.shape)\n",
    "    log_vec[(num > 0) & (denom > 0)] = np.log(num[(num > 0) & (denom > 0)] / denom[(num > 0) & (denom > 0)])\n",
    "    return log_vec"
   ]
  },
  {
   "cell_type": "code",
   "execution_count": 274,
   "metadata": {},
   "outputs": [
    {
     "name": "stdout",
     "output_type": "stream",
     "text": [
      "Calculating logodds for 6-mer 0...\n",
      "Calculating logodds for 6-mer 1000...\n"
     ]
    },
    {
     "name": "stderr",
     "output_type": "stream",
     "text": [
      "/usr/local/lib/python3.7/site-packages/ipykernel_launcher.py:21: RuntimeWarning: invalid value encountered in double_scalars\n"
     ]
    },
    {
     "name": "stdout",
     "output_type": "stream",
     "text": [
      "Calculating logodds for 6-mer 2000...\n",
      "Calculating logodds for 6-mer 3000...\n",
      "Calculating logodds for 6-mer 4000...\n"
     ]
    }
   ],
   "source": [
    "logodds_ratios = np.zeros(X_col.shape[1])\n",
    "y_has = np.zeros(X_col.shape[1])\n",
    "y_not = np.zeros(X_col.shape[1])\n",
    "\n",
    "# print(logodds_ratios.shape)\n",
    "# print(X[1, :])\n",
    "# print(y[X[1, :])\n",
    "        \n",
    "# Loop over every 6-mer index\n",
    "for w_i in range(logodds_ratios.shape[0]) :\n",
    "    if w_i % 1000 == 0:\n",
    "        print('Calculating logodds for 6-mer ' + str(w_i) + '...')\n",
    "#     cols = []\n",
    "#     out_ind = np.transpose()\n",
    "#     for arr in out_ind:\n",
    "#         cols.append(arr[1])\n",
    "        \n",
    "    y_has_mul = np.nonzero(X[:, w_i])[0]\n",
    "    y_not_mul = np.where(np.sum(X[:, w_i], axis = 1) == 0)[0]\n",
    "    \n",
    "    y_has[w_i] = np.sum(y[y_has_mul]) / X_col[:, w_i].size\n",
    "    y_not[w_i] = (np.sum(y) - np.sum(y[y_has_mul])) / (10000 - X_col[:, w_i].size)\n",
    "#     print(y_not[0])\n",
    "    \n",
    "    if(y_has[w_i] == 0 or y_not[w_i] == 0):\n",
    "        logodds_ratios[w_i] = 0\n",
    "        continue\n",
    "    num = y_has[w_i] / (1 - y_has[w_i])\n",
    "    denum = y_not[w_i] / (1 - y_not[w_i])\n",
    "    logodds_ratios[w_i] = np.log(num / denum)\n",
    "    \n",
    "    #TODO: Calculate and store the log odds ratio of each 6-mer in vector 'logodds_ratios'"
   ]
  },
  {
   "cell_type": "code",
   "execution_count": 275,
   "metadata": {},
   "outputs": [
    {
     "name": "stdout",
     "output_type": "stream",
     "text": [
      "4.038562322892769\n",
      "-4.3735585338842755\n"
     ]
    }
   ],
   "source": [
    "print(max(logodds_ratios))\n",
    "print(min(logodds_ratios))"
   ]
  },
  {
   "cell_type": "code",
   "execution_count": 276,
   "metadata": {},
   "outputs": [
    {
     "name": "stdout",
     "output_type": "stream",
     "text": [
      "[-4.37355853 -4.10546135 -4.0484051  ...         nan         nan\n",
      "         nan]\n"
     ]
    },
    {
     "data": {
      "text/plain": [
       "<matplotlib.collections.PathCollection at 0x128618d30>"
      ]
     },
     "execution_count": 276,
     "metadata": {},
     "output_type": "execute_result"
    },
    {
     "data": {
      "image/png": "[encoded data removed]",
      "text/plain": [
       "<Figure size 432x288 with 1 Axes>"
      ]
     },
     "metadata": {
      "needs_background": "light"
     },
     "output_type": "display_data"
    }
   ],
   "source": [
    "#Problem 1.1\n",
    "#TODO: Plot the sorted Log odds ratios, and print the smallest and largest values\n",
    "ind = np.argsort(logodds_ratios)\n",
    "logodds_ratios.sort()\n",
    "print(logodds_ratios)\n",
    "ind.sort()\n",
    "plt.scatter(logodds_ratios, ind)"
   ]
  },
  {
   "cell_type": "code",
   "execution_count": 210,
   "metadata": {},
   "outputs": [],
   "source": [
    "#Problem 1.3\n",
    "#TODO: Split data (matrix X and vector y) into training and test sets. Test set should contain 2,000 data points\n"
   ]
  },
  {
   "cell_type": "code",
   "execution_count": 148,
   "metadata": {},
   "outputs": [],
   "source": [
    "# Problem 1.3\n",
    "# TODO: Implement Gradient Descent with KL-divergence gradients for regressing splice site usages\n",
    "\n",
    "# Helper function for computing log(x / y) in a safe way (whenever x or y is 0).\n",
    "\n",
    "\n",
    "# Compute the KL divergence loss (alpha is regularization parameter)\n",
    "def kl_divergence_loss(X, w, w_0, y_true, alpha = 0.0001) :\n",
    "    # Return kl divergence loss function\n",
    "    y_hat = 1 / (1 + np.exp(-(w_0 + X * w)))\n",
    "#     print(y_hat)\n",
    "    N = X.shape[0]\n",
    "    bla = safe_kl_log(y_true, y_hat)\n",
    "    first_term = np.sum(y_true * safe_kl_log(y_true, y_hat)) / N\n",
    "    second_term = np.sum((1 - y_true) * safe_kl_log(1 - y_true, 1 - y_hat)) / N\n",
    "    return first_term + second_term + 1/2 * alpha * np.sum(w * w) \n",
    "\n",
    "# Compute the KL divergence gradients for the weight vector w and intercept term w_0 (alpha is regularization parameter)\n",
    "def kl_divergence_gradients(X, w, w_0, y_true, alpha = 0.0001) :\n",
    "    # Return kl divergence loss gradients for w and w_0\n",
    "    N = X.shape[0]\n",
    "    y_hat = 1 / (1 + np.exp(-(w_0 + X * w)))\n",
    "    w_new_gradient = X.T *(y_hat - y_true) / N + alpha * w\n",
    "    w_0_new_gradient = np.sum((y_hat - y_true)) / N\n",
    "    return w_new_gradient, w_0_new_gradient\n",
    "\n",
    "# Gradient Descent algorithm to optimize weights w and w_0\n",
    "def gradient_descent(X_train, y_train, X_test, y_test, w, w_0, step_size = 0.1, alpha = 0.0001, max_epochs = 3000):# 2000):\n",
    "    mean_train_losses = []\n",
    "    mean_test_losses = []\n",
    "    for epoch in range(max_epochs) : # Stop after unreasonable # of iterations, in case we never converge\n",
    "        if epoch % 50 == 1 and len(mean_train_losses) > 0 :\n",
    "            print('Training epoch = ' + str(epoch))\n",
    "            print('Training set KL-div = ' + str(round(mean_train_losses[-1], 4)))\n",
    "            print('Test set KL-div = ' + str(round(mean_test_losses[-1], 4)))\n",
    "        \n",
    "        # Calculate the KL loss and gradients on the training set\n",
    "        KL_loss_train = kl_divergence_loss(X_train, w, w_0, y_train, alpha)\n",
    "        KL_loss_test = kl_divergence_loss(X_test, w, w_0, y_test, alpha)\n",
    "        \n",
    "        w_new_gradient, w_0_new_gradient = kl_divergence_gradients(X_train, w, w_0, y_train, alpha)\n",
    "        \n",
    "        # Update your weights w and w_0 based on the gradients\n",
    "        w = w - step_size * w_new_gradient\n",
    "        w_0 = w_0 - step_size * w_0_new_gradient\n",
    "        \n",
    "        # Append your mean train and test loss to 'mean_train_losses' and 'mean_test_losses'\n",
    "        mean_train_losses.append(KL_loss_train)\n",
    "        mean_test_losses.append(KL_loss_test)\n",
    "        # Stop the loop once the training loss stops decreasing significantly\n",
    "        if(epoch > 0):\n",
    "            if ((mean_train_losses[-2] / mean_train_losses[-1]) < (1 + alpha)):\n",
    "                print(\"Breaks at epoch: \" + str(epoch))\n",
    "                break\n",
    "    \n",
    "    print('Gradient descent completed.')\n",
    "    print('Final training set KL-div = ' + str(round(mean_train_losses[-1], 4)))\n",
    "    print('Final test set KL-div = ' + str(round(mean_test_losses[-1], 4)))\n",
    "    \n",
    "    return w, w_0, mean_train_losses, mean_test_losses"
   ]
  },
  {
   "cell_type": "code",
   "execution_count": 149,
   "metadata": {},
   "outputs": [
    {
     "name": "stdout",
     "output_type": "stream",
     "text": [
      "(10000, 4096)\n",
      "(10000,)\n",
      "(2000, 4096)\n",
      "(2000,)\n",
      "0.4482165671312173\n"
     ]
    }
   ],
   "source": [
    "print(X.shape)\n",
    "print(y.shape)\n",
    "trainingSamples = 8000\n",
    "X_train = X[0:trainingSamples, :]\n",
    "y_train = y[0:trainingSamples]\n",
    "X_test = X[trainingSamples:, :]\n",
    "y_test = y[trainingSamples:]\n",
    "print(X_test.shape)\n",
    "print(y_test.shape)\n",
    "w, w_0 = np.zeros(X_train.shape[1]), 0\n",
    "print(kl_divergence_loss(X_train, w, w_0, y_train))"
   ]
  },
  {
   "cell_type": "code",
   "execution_count": 277,
   "metadata": {
    "scrolled": false
   },
   "outputs": [
    {
     "name": "stdout",
     "output_type": "stream",
     "text": [
      "Training epoch = 1\n",
      "Training set KL-div = 0.4482\n",
      "Test set KL-div = 0.4385\n",
      "Training epoch = 51\n",
      "Training set KL-div = 0.25\n",
      "Test set KL-div = 0.2597\n",
      "Training epoch = 101\n",
      "Training set KL-div = 0.2233\n",
      "Test set KL-div = 0.2351\n",
      "Training epoch = 151\n",
      "Training set KL-div = 0.2064\n",
      "Test set KL-div = 0.2192\n",
      "Training epoch = 201\n",
      "Training set KL-div = 0.1943\n",
      "Test set KL-div = 0.2081\n",
      "Training epoch = 251\n",
      "Training set KL-div = 0.1851\n",
      "Test set KL-div = 0.1999\n",
      "Training epoch = 301\n",
      "Training set KL-div = 0.1777\n",
      "Test set KL-div = 0.1934\n",
      "Training epoch = 351\n",
      "Training set KL-div = 0.1716\n",
      "Test set KL-div = 0.1881\n",
      "Training epoch = 401\n",
      "Training set KL-div = 0.1665\n",
      "Test set KL-div = 0.1837\n",
      "Training epoch = 451\n",
      "Training set KL-div = 0.162\n",
      "Test set KL-div = 0.18\n",
      "Training epoch = 501\n",
      "Training set KL-div = 0.1581\n",
      "Test set KL-div = 0.1767\n",
      "Training epoch = 551\n",
      "Training set KL-div = 0.1547\n",
      "Test set KL-div = 0.1739\n",
      "Training epoch = 601\n",
      "Training set KL-div = 0.1516\n",
      "Test set KL-div = 0.1713\n",
      "Training epoch = 651\n",
      "Training set KL-div = 0.1488\n",
      "Test set KL-div = 0.169\n",
      "Training epoch = 701\n",
      "Training set KL-div = 0.1462\n",
      "Test set KL-div = 0.167\n",
      "Training epoch = 751\n",
      "Training set KL-div = 0.1439\n",
      "Test set KL-div = 0.1651\n",
      "Training epoch = 801\n",
      "Training set KL-div = 0.1418\n",
      "Test set KL-div = 0.1633\n",
      "Training epoch = 851\n",
      "Training set KL-div = 0.1398\n",
      "Test set KL-div = 0.1618\n",
      "Training epoch = 901\n",
      "Training set KL-div = 0.1379\n",
      "Test set KL-div = 0.1603\n",
      "Training epoch = 951\n",
      "Training set KL-div = 0.1362\n",
      "Test set KL-div = 0.1589\n",
      "Training epoch = 1001\n",
      "Training set KL-div = 0.1346\n",
      "Test set KL-div = 0.1577\n",
      "Training epoch = 1051\n",
      "Training set KL-div = 0.1331\n",
      "Test set KL-div = 0.1565\n",
      "Training epoch = 1101\n",
      "Training set KL-div = 0.1317\n",
      "Test set KL-div = 0.1554\n",
      "Training epoch = 1151\n",
      "Training set KL-div = 0.1304\n",
      "Test set KL-div = 0.1544\n",
      "Training epoch = 1201\n",
      "Training set KL-div = 0.1291\n",
      "Test set KL-div = 0.1534\n",
      "Training epoch = 1251\n",
      "Training set KL-div = 0.1279\n",
      "Test set KL-div = 0.1525\n",
      "Training epoch = 1301\n",
      "Training set KL-div = 0.1268\n",
      "Test set KL-div = 0.1516\n",
      "Training epoch = 1351\n",
      "Training set KL-div = 0.1257\n",
      "Test set KL-div = 0.1508\n",
      "Training epoch = 1401\n",
      "Training set KL-div = 0.1247\n",
      "Test set KL-div = 0.1501\n",
      "Training epoch = 1451\n",
      "Training set KL-div = 0.1238\n",
      "Test set KL-div = 0.1493\n",
      "Training epoch = 1501\n",
      "Training set KL-div = 0.1228\n",
      "Test set KL-div = 0.1487\n",
      "Training epoch = 1551\n",
      "Training set KL-div = 0.1219\n",
      "Test set KL-div = 0.148\n",
      "Training epoch = 1601\n",
      "Training set KL-div = 0.1211\n",
      "Test set KL-div = 0.1474\n",
      "Training epoch = 1651\n",
      "Training set KL-div = 0.1203\n",
      "Test set KL-div = 0.1468\n",
      "Training epoch = 1701\n",
      "Training set KL-div = 0.1195\n",
      "Test set KL-div = 0.1462\n",
      "Training epoch = 1751\n",
      "Training set KL-div = 0.1188\n",
      "Test set KL-div = 0.1457\n",
      "Training epoch = 1801\n",
      "Training set KL-div = 0.118\n",
      "Test set KL-div = 0.1452\n",
      "Training epoch = 1851\n",
      "Training set KL-div = 0.1173\n",
      "Test set KL-div = 0.1447\n",
      "Training epoch = 1901\n",
      "Training set KL-div = 0.1167\n",
      "Test set KL-div = 0.1443\n",
      "Training epoch = 1951\n",
      "Training set KL-div = 0.116\n",
      "Test set KL-div = 0.1438\n",
      "Training epoch = 2001\n",
      "Training set KL-div = 0.1154\n",
      "Test set KL-div = 0.1434\n",
      "Training epoch = 2051\n",
      "Training set KL-div = 0.1148\n",
      "Test set KL-div = 0.143\n",
      "Breaks at epoch: 2090\n",
      "Gradient descent completed.\n",
      "Final training set KL-div = 0.1144\n",
      "Final test set KL-div = 0.1427\n"
     ]
    }
   ],
   "source": [
    "# Problem 1.3\n",
    "# Here we initialize the weight vector and intercept term to zeros.\n",
    "w, w_0 = np.zeros(X.shape[1]), 0\n",
    "\n",
    "# Train the weights using your Gradient Descent algorithm\n",
    "w, w_0, train_losses, test_losses = gradient_descent(X_train, y_train, X_test, y_test, w, w_0)\n"
   ]
  },
  {
   "cell_type": "code",
   "execution_count": 153,
   "metadata": {},
   "outputs": [
    {
     "data": {
      "text/plain": [
       "[<matplotlib.lines.Line2D at 0x12bb3df60>]"
      ]
     },
     "execution_count": 153,
     "metadata": {},
     "output_type": "execute_result"
    },
    {
     "data": {
      "image/png": "[encoded data removed]",
      "text/plain": [
       "<Figure size 432x288 with 1 Axes>"
      ]
     },
     "metadata": {
      "needs_background": "light"
     },
     "output_type": "display_data"
    }
   ],
   "source": [
    "#Problem 1.3\n",
    "#TODO: Plot training and test set loss (mean KL-div) vs. training iteration\n",
    "plt.plot(train_losses)\n",
    "plt.plot(test_losses)\n",
    "#TODO: Scatter plot of true vs. pred SD1 usage on test set, and print R^2 coefficient.\n"
   ]
  },
  {
   "cell_type": "code",
   "execution_count": 158,
   "metadata": {},
   "outputs": [
    {
     "name": "stdout",
     "output_type": "stream",
     "text": [
      "(0.709624386944727, 3.6756038949483877e-306)\n"
     ]
    },
    {
     "data": {
      "image/png": "[encoded data removed]",
      "text/plain": [
       "<Figure size 432x288 with 1 Axes>"
      ]
     },
     "metadata": {
      "needs_background": "light"
     },
     "output_type": "display_data"
    }
   ],
   "source": [
    "#Problem 1.3\n",
    "#TODO: Plot the 10 6-mers and corresponding weights of largest magnitude\n",
    "#TODO: Plot the 10 6-mers and corresponding weights of smallest magnitude\n",
    "y_pred =  X_test * w + w_0\n",
    "plt.scatter(y_pred, y_test)\n",
    "print(pearsonr(y_pred, y_test))"
   ]
  },
  {
   "cell_type": "code",
   "execution_count": null,
   "metadata": {},
   "outputs": [],
   "source": []
  }
 ],
 "metadata": {
  "kernelspec": {
   "display_name": "Python 3",
   "language": "python",
   "name": "python3"
  },
  "language_info": {
   "codemirror_mode": {
    "name": "ipython",
    "version": 3
   },
   "file_extension": ".py",
   "mimetype": "text/x-python",
   "name": "python",
   "nbconvert_exporter": "python",
   "pygments_lexer": "ipython3",
   "version": "3.7.3"
  }
 },
 "nbformat": 4,
 "nbformat_minor": 2
}
