{
 "cells": [
  {
   "cell_type": "code",
   "execution_count": 1,
   "metadata": {},
   "outputs": [],
   "source": [
    "import numpy as np\n",
    "import matplotlib.pyplot as plt\n",
    "from sklearn.preprocessing import normalize\n"
   ]
  },
  {
   "cell_type": "code",
   "execution_count": 2,
   "metadata": {},
   "outputs": [
    {
     "name": "stdout",
     "output_type": "stream",
     "text": [
      "genome length = 1959987\n"
     ]
    }
   ],
   "source": [
    "#Read genome sequence file\n",
    "\n",
    "genome_sequence = ''\n",
    "with open('NC_011297.fna', 'r') as f :\n",
    "    f.readline()\n",
    "    \n",
    "    for line in f :\n",
    "        genome_sequence += line.strip()\n",
    "\n",
    "print('genome length = ' + str(len(genome_sequence)))"
   ]
  },
  {
   "cell_type": "code",
   "execution_count": 3,
   "metadata": {},
   "outputs": [
    {
     "name": "stdout",
     "output_type": "stream",
     "text": [
      "GCAATTTTTTTATAATACC\n",
      "2\n"
     ]
    }
   ],
   "source": [
    "print(genome_sequence[1:20])\n",
    "print(max(1, 2))"
   ]
  },
  {
   "cell_type": "code",
   "execution_count": 4,
   "metadata": {},
   "outputs": [],
   "source": [
    "#Problem 2.1 - 2.2\n",
    "\n",
    "# Takes as input the emission sequence (genome) and probability parameters\n",
    "# Outputs the most likely state sequence using Viterbi decoding\n",
    "# emissions are observations.\n",
    "def viterbi_decode(emissions, initial_probilites, transition_probilites, emission_probilities):\n",
    "    T = len(emissions)\n",
    "    \n",
    "    max_states_logprob = 0\n",
    "    max_states = [0] * T\n",
    "    \n",
    "    # using log probabilities are computationally more efficient.\n",
    "    initial_probilities_log = np.log(initial_probilites)\n",
    "    transition_probilities_log = np.log(transition_probilites)\n",
    "    emission_probilities_log = np.log(emission_probilities)\n",
    "    \n",
    "    # Bad code design, remove from here. Make input emissions: 1, 2, 3, 4.\n",
    "    state_given_emission_table = {'A': np.log(emission_probilities[:, 0]), \\\n",
    "                                  'C': np.log(emission_probilities[:, 1]), \\\n",
    "                                  'G': np.log(emission_probilities[:, 2]), \\\n",
    "                                  'T': np.log(emission_probilities[:, 3]) }\n",
    "    \n",
    "    length_emissions = len(emissions)\n",
    "    length_hidden_vlaues = emission_probilities.shape[0]\n",
    "    \n",
    "    # Implement the Viterbi decoding algorithm\n",
    "    # Store the decoded state sequence in 'max_states'\n",
    "    # Store the state sequence log likelihood in 'max_states_logprob'\n",
    "    \n",
    "    probility_matrix_log = np.zeros((length_hidden_vlaues,length_emissions))\n",
    "    probility_matrix_log[:, 0] = initial_probilities_log + state_given_emission_table[emissions[0]]\n",
    "    \n",
    "    for i in range(1, length_emissions):\n",
    "        \n",
    "        current_transition_probability_0 = max(probility_matrix_log[0, i - 1] + transition_probilities_log[0, 0], \\\n",
    "                                               probility_matrix_log[1, i - 1] + transition_probilities_log[1, 0])\n",
    "        current_transition_probability_1 = max(probility_matrix_log[1, i - 1] + transition_probilities_log[1, 1], \\\n",
    "                                               probility_matrix_log[0, i - 1] + transition_probilities_log[0, 1])\n",
    "        current_transition_probability = [current_transition_probability_0, current_transition_probability_1]\n",
    "        probility_matrix_log[:, i] = current_transition_probability + state_given_emission_table[emissions[i]]\n",
    "        i = i + 1\n",
    "\n",
    "    states_labeled = np.argmax(probility_matrix_log, axis = 0)\n",
    "    max_end_logprob = np.max(probility_matrix_log[:, length_emissions - 1])\n",
    "    \n",
    "    return max_end_logprob, states_labeled\n",
    "\n",
    "# Takes as input the emission sequence (genome) and probability parameters\n",
    "# Outputs new (re-estimated) probability parameters\n",
    "\n",
    "def viterbi_train(emissions, initial_probilites, transition_probilites, emission_probilities, iterations = 10):\n",
    "    given_probabilities = {'A': {0: 0, 1: 0}, 'C': {0: 0, 1: 0} , 'G': {0: 0, 1: 0} , 'T': {0: 0, 1: 0} }\n",
    "    \n",
    "    new_transition_probilites = transition_probilites\n",
    "    new_emission_probilities = emission_probilities\n",
    "    \n",
    "    for i in range(iterations):\n",
    "        something, states_labeled \\\n",
    "        = viterbi_decode(emissions, initial_probilites, new_transition_probilites, new_emission_probilities)\n",
    "        \n",
    "        for i in range(len(emissions)):\n",
    "            given_probabilities[emissions[i]][states_labeled[i]] = \\\n",
    "                given_probabilities[emissions[i]][states_labeled[i]] + 1\n",
    "    \n",
    "        log_probs = np.array([given_probabilities[key] for key in ('A', 'C', 'G', 'T')]).T\n",
    "\n",
    "        log_probs_array = np.zeros((2, 4))\n",
    "        for i in range(len(log_probs)):\n",
    "            log_probs_array[:, i] = np.fromiter(log_probs[i].values(), dtype=float)\n",
    "\n",
    "        new_emission_probilities = normalize(log_probs_array, norm = \"l1\", axis=1)\n",
    "\n",
    "        transition_count = {'00': 0, '01': 0 , '10': 0 , '11': 0}\n",
    "\n",
    "        for i in range(1, len(states_labeled)):\n",
    "            transition = str(states_labeled[i - 1]) + str(states_labeled[i])\n",
    "            transition_count[transition] = transition_count[transition] + 1\n",
    "\n",
    "        new_transition_probilites = np.array([transition_count[key] for key in ('00', '01', '10', '11')]).T\n",
    "        new_transition_probilites = np.reshape(new_transition_probilites, (2, 2))\n",
    "        new_transition_probilites = normalize(new_transition_probilites, norm = \"l1\", axis=1)\n",
    "    \n",
    "    return new_emission_probilities, new_transition_probilites\n",
    "    \n",
    "#     new_init_prob = np.zeros(init_prob.shape)\n",
    "\n",
    "    #TODO: Implement Viterbi training to re-estimate parameters\n",
    "    #Store the new parameters in the 'new_' matrices\n",
    "    #Store the Viterbi-decoded state sequence log likelihood in 'log_probs' at each iteration of training\n",
    "\n",
    "#     return log_probs, new_init_prob, new_trans_prob, new_emission_prob\n",
    "\n"
   ]
  },
  {
   "cell_type": "code",
   "execution_count": 5,
   "metadata": {},
   "outputs": [],
   "source": [
    "# Problem 2.1\n",
    "# Here we initialize the probability matrices for the HMM\n",
    "\n",
    "# TODO: Initialize P(s_{1})\n",
    "initial_probabilities = np.array([0.996, 0.004])\n",
    "\n",
    "# TODO: Initialize P(s_{t} | s_{t-1})\n",
    "transition_probabilities = np.array([\n",
    "    [0.999, 0.001], # s_{t-1} = AT\n",
    "    [0.01, 0.99] # s_{t-1} = GC\n",
    "])\n",
    "\n",
    "# A C G T\n",
    "# TODO: Initialize P(o_{t} | s_{t})\n",
    "emission_probabilities = np.array([\n",
    "    [0.291, 0.209, 0.209, 0.291], # s_{t} = AT\n",
    "    [0.169, 0.331, 0.331, 0.169] # s_{t} = GC\n",
    "])"
   ]
  },
  {
   "cell_type": "code",
   "execution_count": 6,
   "metadata": {
    "scrolled": false
   },
   "outputs": [],
   "source": [
    "# Problem 2.1\n",
    "# TODO: Run Viterbi decoding to obtain the most likely state sequence for the genome\n",
    "# genome_sequence = \"AAAA\"\n",
    "max_end_logprob, states_labeled = viterbi_decode(genome_sequence, initial_probabilities, transition_probabilities, emission_probabilities)"
   ]
  },
  {
   "cell_type": "code",
   "execution_count": 7,
   "metadata": {},
   "outputs": [
    {
     "name": "stdout",
     "output_type": "stream",
     "text": [
      "-2640006.4037369997\n",
      "[0 0 0 ... 0 0 0]\n"
     ]
    }
   ],
   "source": [
    "print(max_end_logprob)\n",
    "print(states_labeled)"
   ]
  },
  {
   "cell_type": "code",
   "execution_count": 8,
   "metadata": {},
   "outputs": [
    {
     "name": "stdout",
     "output_type": "stream",
     "text": [
      "[ 109362  109364  109365 ... 1649452 1649453 1916481]\n",
      "0.004749011090379681\n"
     ]
    },
    {
     "data": {
      "image/png": "[encoded data removed]",
      "text/plain": [
       "<Figure size 1280x960 with 1 Axes>"
      ]
     },
     "metadata": {},
     "output_type": "display_data"
    }
   ],
   "source": [
    "# Problem 2.1\n",
    "# TODO: Plot the genomic nucleotide coordinates of detected GC-rich regions\n",
    "\n",
    "plt.figure(num=None, figsize=(16, 12), dpi=80, facecolor='w', edgecolor='k')\n",
    "import matplotlib.pyplot as plt\n",
    "indices = np.where(states_labeled==1)[0]\n",
    "plt.scatter(indices, states_labeled[states_labeled == 1], alpha = 0.01)\n",
    "plt.plot()\n",
    "\n",
    "print(indices)\n",
    "print(len(indices) / len(genome_sequence))"
   ]
  },
  {
   "cell_type": "code",
   "execution_count": 9,
   "metadata": {
    "scrolled": true
   },
   "outputs": [],
   "source": [
    "# Problem 2.2\n",
    "# TODO: Update HMM parameters with Viterbi training\n",
    "# TODO: Plot genome sequence (emission sequence) likelihood vs. EM iteration\n",
    "new_emission_probabilities,\\\n",
    "new_transition_probabilities\\\n",
    "= viterbi_train(genome_sequence,initial_probabilities,\\\n",
    "                transition_probabilities, emission_probabilities, iterations = 5)\n"
   ]
  },
  {
   "cell_type": "code",
   "execution_count": 10,
   "metadata": {},
   "outputs": [],
   "source": [
    "# plot(range(1, 10), returned_max_end_logprob)"
   ]
  },
  {
   "cell_type": "code",
   "execution_count": 11,
   "metadata": {},
   "outputs": [
    {
     "name": "stdout",
     "output_type": "stream",
     "text": [
      "[[0.33747783 0.16318051 0.17265965 0.32668201]\n",
      " [0.2021287  0.30271819 0.28501719 0.21013591]]\n",
      "[[9.99838698e-01 1.61301508e-04]\n",
      " [2.35718039e-02 9.76428196e-01]]\n",
      "-2640006.4037369997\n"
     ]
    }
   ],
   "source": [
    "print(new_emission_probabilities)\n",
    "print(new_transition_probabilities)\n",
    "print(max_end_logprob)"
   ]
  },
  {
   "cell_type": "code",
   "execution_count": 12,
   "metadata": {},
   "outputs": [],
   "source": [
    "# Problem 2.2\n",
    "# TODO: Re-run viterbi decoding with the new probability parameters.\n",
    "max_end_logprob, states_labeled\\\n",
    "= viterbi_decode(\n",
    "    genome_sequence, initial_probabilities, new_transition_probabilities, new_emission_probabilities)"
   ]
  },
  {
   "cell_type": "code",
   "execution_count": 13,
   "metadata": {},
   "outputs": [
    {
     "name": "stdout",
     "output_type": "stream",
     "text": [
      "0.006780147011179156\n"
     ]
    },
    {
     "data": {
      "image/png": "[encoded data removed]",
      "text/plain": [
       "<Figure size 1280x960 with 1 Axes>"
      ]
     },
     "metadata": {},
     "output_type": "display_data"
    }
   ],
   "source": [
    "# Problem 2.2\n",
    "# TODO: Plot the genomic coordinates of newly detected GC-rich regions along with the previous detected regions\n",
    "plt.figure(num=None, figsize=(16, 12), dpi=80, facecolor='w', edgecolor='k')\n",
    "import matplotlib.pyplot as plt\n",
    "indices = np.where(states_labeled==1)[0]\n",
    "plt.scatter(indices, states_labeled[states_labeled == 1], alpha = 0.01)\n",
    "plt.plot()\n",
    "\n",
    "print(len(indices) / len(genome_sequence))"
   ]
  },
  {
   "cell_type": "code",
   "execution_count": 14,
   "metadata": {},
   "outputs": [
    {
     "name": "stdout",
     "output_type": "stream",
     "text": [
      "-2610257.0902618147\n"
     ]
    }
   ],
   "source": [
    "print(max_end_logprob)"
   ]
  },
  {
   "cell_type": "code",
   "execution_count": null,
   "metadata": {},
   "outputs": [],
   "source": []
  }
 ],
 "metadata": {
  "kernelspec": {
   "display_name": "Python 3",
   "language": "python",
   "name": "python3"
  },
  "language_info": {
   "codemirror_mode": {
    "name": "ipython",
    "version": 3
   },
   "file_extension": ".py",
   "mimetype": "text/x-python",
   "name": "python",
   "nbconvert_exporter": "python",
   "pygments_lexer": "ipython3",
   "version": "3.7.3"
  }
 },
 "nbformat": 4,
 "nbformat_minor": 2
}
